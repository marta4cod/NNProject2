{
  "nbformat": 4,
  "nbformat_minor": 0,
  "metadata": {
    "colab": {
      "provenance": [],
      "authorship_tag": "ABX9TyOmSsdCJptF/L4xU1r2X0tc",
      "include_colab_link": true
    },
    "kernelspec": {
      "name": "python3",
      "display_name": "Python 3"
    },
    "language_info": {
      "name": "python"
    }
  },
  "cells": [
    {
      "cell_type": "markdown",
      "metadata": {
        "id": "view-in-github",
        "colab_type": "text"
      },
      "source": [
        "<a href=\"https://colab.research.google.com/github/marta4cod/NNProject2/blob/main/NN2.ipynb\" target=\"_parent\"><img src=\"https://colab.research.google.com/assets/colab-badge.svg\" alt=\"Open In Colab\"/></a>"
      ]
    },
    {
      "cell_type": "code",
      "execution_count": 14,
      "metadata": {
        "colab": {
          "base_uri": "https://localhost:8080/"
        },
        "id": "LlTxbwrQdXQU",
        "outputId": "523a451b-ddf8-44e6-d490-c242625474d5"
      },
      "outputs": [
        {
          "output_type": "stream",
          "name": "stdout",
          "text": [
            "Drive already mounted at /content/drive; to attempt to forcibly remount, call drive.mount(\"/content/drive\", force_remount=True).\n"
          ]
        }
      ],
      "source": [
        "from google.colab import drive\n",
        "drive.mount('/content/drive')"
      ]
    },
    {
      "cell_type": "code",
      "source": [
        "!find /content/drive/MyDrive -name \"NN2.ipynb\""
      ],
      "metadata": {
        "id": "k0vJSn7Tdy7g"
      },
      "execution_count": 15,
      "outputs": []
    },
    {
      "cell_type": "code",
      "source": [
        "# Set Git config\n",
        "!git config --global user.name \"marta4cod\"\n",
        "!git config --global user.email \"marta4cod@gmail.com\"\n",
        "\n",
        "# Define GitHub info (DON'T COMMIT THIS TOKEN!)\n",
        "\n",
        "username = \"marta4cod\"\n",
        "repo = \"NNProject2\"\n",
        "\n",
        "clone_url = f\"https://{token}@github.com/{username}/{repo}.git\"\n"
      ],
      "metadata": {
        "id": "6ABIotpMd7PI"
      },
      "execution_count": 4,
      "outputs": []
    },
    {
      "cell_type": "code",
      "source": [
        "# Clone the repo\n",
        "!git clone {clone_url}\n",
        "\n",
        "# Move the notebook (replace path below with the one you found earlier)\n",
        "!mv \"/content/drive/MyDrive/Colab Notebooks/NN2.ipynb\" /content/{repo}/\n"
      ],
      "metadata": {
        "colab": {
          "base_uri": "https://localhost:8080/"
        },
        "id": "2fKjjlRUeIzV",
        "outputId": "cddd7be6-7da6-4824-8b9c-049b1d3f9a38"
      },
      "execution_count": 16,
      "outputs": [
        {
          "output_type": "stream",
          "name": "stdout",
          "text": [
            "fatal: destination path 'NNProject2' already exists and is not an empty directory.\n"
          ]
        }
      ]
    },
    {
      "cell_type": "code",
      "source": [
        "%cd /content/NNProject2\n",
        "!git add NN2.ipynb\n",
        "!git commit --amend --no-edit  # replace the previous commit with this clean version\n",
        "!git push --force origin main"
      ],
      "metadata": {
        "colab": {
          "base_uri": "https://localhost:8080/"
        },
        "collapsed": true,
        "id": "pDtNAi1oeOYr",
        "outputId": "ad84b82b-5c02-48a3-88b3-5b49806772ab"
      },
      "execution_count": 22,
      "outputs": [
        {
          "output_type": "stream",
          "name": "stdout",
          "text": [
            "/content/NNProject2\n",
            "[main 762ded1] Add notebook from Colab\n",
            " Date: Thu Apr 3 12:01:04 2025 +0000\n",
            " 1 file changed, 1 insertion(+)\n",
            " create mode 100644 NN2.ipynb\n",
            "Enumerating objects: 3, done.\n",
            "Counting objects: 100% (3/3), done.\n",
            "Delta compression using up to 2 threads\n",
            "Compressing objects: 100% (2/2), done.\n",
            "Writing objects: 100% (3/3), 1.59 KiB | 1.59 MiB/s, done.\n",
            "Total 3 (delta 0), reused 0 (delta 0), pack-reused 0\n",
            "To https://github.com/marta4cod/NNProject2.git\n",
            " * [new branch]      main -> main\n"
          ]
        }
      ]
    },
    {
      "cell_type": "code",
      "source": [
        "pip install datasets"
      ],
      "metadata": {
        "id": "uvGz4Pb5hisA"
      },
      "execution_count": null,
      "outputs": []
    },
    {
      "cell_type": "code",
      "source": [],
      "metadata": {
        "id": "fZsP_cSHiH50"
      },
      "execution_count": null,
      "outputs": []
    }
  ]
}